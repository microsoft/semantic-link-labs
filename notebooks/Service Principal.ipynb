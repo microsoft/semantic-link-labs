{
 "cells": [
  {
   "cell_type": "markdown",
   "id": "5c27dfd1-4fe0-4a97-92e6-ddf78889aa93",
   "metadata": {
    "nteract": {
     "transient": {
      "deleting": false
     }
    }
   },
   "source": [
    "### Install the latest .whl package\n",
    "\n",
    "Check [here](https://pypi.org/project/semantic-link-labs/) to see the latest version."
   ]
  },
  {
   "cell_type": "code",
   "execution_count": null,
   "id": "d5cae9db-cef9-48a8-a351-9c5fcc99645c",
   "metadata": {
    "jupyter": {
     "outputs_hidden": true,
     "source_hidden": false
    },
    "nteract": {
     "transient": {
      "deleting": false
     }
    }
   },
   "outputs": [],
   "source": [
    "%pip install semantic-link-labs"
   ]
  },
  {
   "cell_type": "markdown",
   "id": "3609ffb9",
   "metadata": {},
   "source": [
    "## Requirements\n",
    "\n",
    "#### App Registration\n",
    "1. Create an [App Registration](https://learn.microsoft.com/entra/identity-platform/howto-create-service-principal-portal) in the Azure Portal. Note down the 'Application (client) ID' as well as the 'Directory (tenant) ID'.\n",
    "2. Within 'Manage -> Certificates and secrets', create a new client secret. Copy this down as you will not be able to retrieve it later.\n",
    "#### Key Vault\n",
    "1. Create an [Azure Key Vault](https://learn.microsoft.com/azure/key-vault/general/quick-create-portal) within the Azure Portal.\n",
    "2. Within 'Objects -> Secrets', create 3 secrets (for the ClientID, TenantID, ClientSecret).\n",
    "#### Groups\n",
    "1. Create a new group within the Azure Portal. Make sure it is of type 'Security'.\n",
    "2. Add the app registered (service principal) as a member of this security group.\n",
    "#### Fabric Admin Portal\n",
    "1. Add the security group to the setting 'Service principals can use Fabric APIs'.\n",
    "2. Add the security group to the setting 'Service principals can access read-only admin APIs'.\n",
    "\n",
    "Here are [additional instructions](https://learn.microsoft.com/fabric/admin/metadata-scanning-enable-read-only-apis) regarding admin read-only APIs. Make sure to read and follow these instructions.\n",
    "\n",
    "For connecting to Azure Analysis Services (AAS) via Service Principal, add the Service Principal (app) as an admin the AAS instance either in the Azure Portal or using SSMS in this format: `app:<clientid>@<tenantid>`.\n",
    "\n",
    "**Authentication to retrieve the Key Vault secrets is made using the account which is executing the notebook so please make sure that this account has access to the Key Vault.**"
   ]
  },
  {
   "cell_type": "markdown",
   "id": "b195eae8",
   "metadata": {},
   "source": [
    "### Import the library and obtain a TokenProvider using Azure Key Vault"
   ]
  },
  {
   "cell_type": "code",
   "execution_count": null,
   "id": "1344e286",
   "metadata": {},
   "outputs": [],
   "source": [
    "import sempy_labs as labs\n",
    "from sempy_labs import admin, graph\n",
    "from sempy_labs.tom import connect_semantic_model\n",
    "\n",
    "key_vault_uri = '' # Enter your key vault URI\n",
    "key_vault_tenant_id = '' # Enter the key vault key to the secret storing your Tenant ID\n",
    "key_vault_client_id = '' # Enter the key vault key to the secret storing your Client ID (Application ID)\n",
    "key_vault_client_secret = '' # Enter the key vault key to the secret storing your Client Secret"
   ]
  },
  {
   "cell_type": "markdown",
   "id": "d4651d90",
   "metadata": {},
   "source": [
    "### Use a Service Principal to authenticate to functions"
   ]
  },
  {
   "cell_type": "code",
   "execution_count": null,
   "id": "ebce3a46",
   "metadata": {},
   "outputs": [],
   "source": [
    "with labs.service_principal_authentication(\n",
    "    key_vault_uri=key_vault_uri, \n",
    "    key_vault_tenant_id=key_vault_tenant_id,\n",
    "    key_vault_client_id=key_vault_client_id,\n",
    "    key_vault_client_secret=key_vault_client_secret):\n",
    "\n",
    "    df = admin.list_capacities()\n",
    "    display(df)"
   ]
  },
  {
   "cell_type": "code",
   "execution_count": null,
   "id": "0e1518cd",
   "metadata": {},
   "outputs": [],
   "source": [
    "with labs.service_principal_authentication(\n",
    "    key_vault_uri=key_vault_uri, \n",
    "    key_vault_tenant_id=key_vault_tenant_id,\n",
    "    key_vault_client_id=key_vault_client_id,\n",
    "    key_vault_client_secret=key_vault_client_secret):\n",
    "\n",
    "    df = labs.list_subscriptions()\n",
    "    display(df)"
   ]
  },
  {
   "cell_type": "code",
   "execution_count": null,
   "id": "712572d7",
   "metadata": {},
   "outputs": [],
   "source": [
    "with labs.service_principal_authentication(\n",
    "    key_vault_uri=key_vault_uri, \n",
    "    key_vault_tenant_id=key_vault_tenant_id,\n",
    "    key_vault_client_id=key_vault_client_id,\n",
    "    key_vault_client_secret=key_vault_client_secret):\n",
    "\n",
    "    labs.suspend_fabric_capacity(\n",
    "        capacity_name='',\n",
    "        azure_subscription_id='',\n",
    "        resource_group='',\n",
    "    )"
   ]
  },
  {
   "cell_type": "markdown",
   "id": "931a9ee0",
   "metadata": {},
   "source": [
    "### Using wrapper functions for [Microsoft Graph](https://learn.microsoft.com/graph/overview)"
   ]
  },
  {
   "cell_type": "code",
   "execution_count": null,
   "id": "f0cb20d0",
   "metadata": {},
   "outputs": [],
   "source": [
    "with labs.service_principal_authentication(\n",
    "    key_vault_uri=key_vault_uri, \n",
    "    key_vault_tenant_id=key_vault_tenant_id,\n",
    "    key_vault_client_id=key_vault_client_id,\n",
    "    key_vault_client_secret=key_vault_client_secret):\n",
    "\n",
    "    df = graph.list_users()\n",
    "    display(df)"
   ]
  },
  {
   "cell_type": "markdown",
   "id": "fcde09a7",
   "metadata": {},
   "source": [
    "### Use a Service Principal to connect to the Tabular Object Model (also to [Azure Analysis Services](https://learn.microsoft.com/azure/analysis-services/analysis-services-overview))\n",
    "\n",
    "Note that the Service Principal must have at least read permission to the semantic model to which it is connecting. See [here](https://learn.microsoft.com/power-bi/enterprise/service-premium-service-principal) for more details."
   ]
  },
  {
   "cell_type": "code",
   "execution_count": null,
   "id": "c0bf4de4",
   "metadata": {},
   "outputs": [],
   "source": [
    "dataset = '' # Enter the name of the semantic model\n",
    "workspace = None # Enter the name of the workspace (for Azure Analysis Serivces instance use this format: \"asazure://<region>.asazure.windows.net/<server_name>\")"
   ]
  },
  {
   "cell_type": "code",
   "execution_count": null,
   "id": "a0d58c85",
   "metadata": {},
   "outputs": [],
   "source": [
    "with labs.service_principal_authentication(\n",
    "    key_vault_uri=key_vault_uri, \n",
    "    key_vault_tenant_id=key_vault_tenant_id,\n",
    "    key_vault_client_id=key_vault_client_id,\n",
    "    key_vault_client_secret=key_vault_client_secret):\n",
    "\n",
    "    with connect_semantic_model(dataset=dataset, workspace=workspace, readonly=True) as tom:\n",
    "        for t in tom.model.Tables:\n",
    "            print(t.Name)"
   ]
  }
 ],
 "metadata": {
  "kernel_info": {
   "name": "synapse_pyspark"
  },
  "kernelspec": {
   "display_name": "Synapse PySpark",
   "language": "Python",
   "name": "synapse_pyspark"
  },
  "language_info": {
   "name": "python"
  },
  "microsoft": {
   "language": "python"
  },
  "nteract": {
   "version": "nteract-front-end@1.0.0"
  },
  "spark_compute": {
   "compute_id": "/trident/default"
  },
  "synapse_widget": {
   "state": {},
   "version": "0.1"
  },
  "widgets": {}
 },
 "nbformat": 4,
 "nbformat_minor": 5
}
