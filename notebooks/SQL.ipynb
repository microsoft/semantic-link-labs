{
 "cells": [
  {
   "cell_type": "markdown",
   "id": "5c27dfd1-4fe0-4a97-92e6-ddf78889aa93",
   "metadata": {
    "nteract": {
     "transient": {
      "deleting": false
     }
    }
   },
   "source": [
    "### Install the latest .whl package\n",
    "\n",
    "Check [here](https://pypi.org/project/semantic-link-labs/) to see the latest version."
   ]
  },
  {
   "cell_type": "code",
   "execution_count": null,
   "id": "d5cae9db-cef9-48a8-a351-9c5fcc99645c",
   "metadata": {
    "jupyter": {
     "outputs_hidden": true,
     "source_hidden": false
    },
    "nteract": {
     "transient": {
      "deleting": false
     }
    }
   },
   "outputs": [],
   "source": [
    "%pip install semantic-link-labs"
   ]
  },
  {
   "cell_type": "markdown",
   "id": "b195eae8",
   "metadata": {},
   "source": [
    "### Import the library and necessary packages"
   ]
  },
  {
   "cell_type": "code",
   "execution_count": null,
   "id": "1344e286",
   "metadata": {},
   "outputs": [],
   "source": [
    "import sempy_labs as labs\n",
    "\n",
    "lakehouse_name = ''\n",
    "lakehouse_workspace_name = ''\n",
    "warehouse_name = ''\n",
    "warehouse_workspace_name = ''"
   ]
  },
  {
   "cell_type": "markdown",
   "id": "55e5ca67",
   "metadata": {},
   "source": [
    "### Run a SQL query (or queries) against a Fabric warehouse"
   ]
  },
  {
   "cell_type": "code",
   "execution_count": null,
   "id": "a9f984e9",
   "metadata": {},
   "outputs": [],
   "source": [
    "with labs.ConnectWarehouse(warehouse=warehouse_name, workspace=warehouse_workspace_name) as sql:\n",
    "    df = sql.query(\"SELECT * FROM Product\")\n",
    "    display(df)"
   ]
  },
  {
   "cell_type": "code",
   "execution_count": null,
   "id": "865ac4a1",
   "metadata": {},
   "outputs": [],
   "source": [
    "with labs.ConnectWarehouse(warehouse=warehouse_name, workspace=warehouse_workspace_name) as sql:\n",
    "    dfs = sql.query([\"SELECT * FROM Product\", \"SELECT DISTINCT [Category] FROM Product\"])\n",
    "\n",
    "for df in dfs:\n",
    "    display(df)"
   ]
  },
  {
   "cell_type": "markdown",
   "id": "bca53cd8",
   "metadata": {},
   "source": [
    "#### See the tables in a warehouse"
   ]
  },
  {
   "cell_type": "code",
   "execution_count": null,
   "id": "9af2cce7",
   "metadata": {},
   "outputs": [],
   "source": [
    "labs.get_warehouse_tables(warehouse=warehouse_name, workspace=warehouse_workspace_name)"
   ]
  },
  {
   "cell_type": "markdown",
   "id": "765f99ae",
   "metadata": {},
   "source": [
    "#### See the columns in each table in a warehouse"
   ]
  },
  {
   "cell_type": "code",
   "execution_count": null,
   "id": "1fabe168",
   "metadata": {},
   "outputs": [],
   "source": [
    "labs.get_warehouse_columns(warehouse=warehouse_name, workspace=warehouse_workspace_name)"
   ]
  },
  {
   "cell_type": "markdown",
   "id": "634700c3",
   "metadata": {},
   "source": [
    "### Run a T-SQL query (or queries) against a Fabric warehouse"
   ]
  },
  {
   "cell_type": "code",
   "execution_count": null,
   "id": "5dbf34f3",
   "metadata": {},
   "outputs": [],
   "source": [
    "with labs.ConnectWarehouse(warehouse=warehouse_name, workspace=warehouse_workspace_name) as sql:\n",
    "    sql.query(\"CREATE SCHEMA [Business]\")"
   ]
  },
  {
   "cell_type": "code",
   "execution_count": null,
   "id": "ec8ddb81",
   "metadata": {},
   "outputs": [],
   "source": [
    "with labs.ConnectWarehouse(warehouse=warehouse_name, workspace=warehouse_workspace_name) as sql:\n",
    "    sql.query([\"CREATE SCHEMA [Business]\", \"CREATE SCHEMA [Marketing]\"])"
   ]
  },
  {
   "cell_type": "markdown",
   "id": "d5b090da",
   "metadata": {},
   "source": [
    "### Run a SQL query (or queries) against a Fabric lakehouse"
   ]
  },
  {
   "cell_type": "code",
   "execution_count": null,
   "id": "4dca7f4a",
   "metadata": {},
   "outputs": [],
   "source": [
    "with labs.ConnectLakehouse(lakehouse=lakehouse_name, workspace=lakehouse_workspace_name) as sql:\n",
    "    df = sql.query(\"SELECT * FROM Product\")\n",
    "    display(df)"
   ]
  },
  {
   "cell_type": "code",
   "execution_count": null,
   "id": "b9606ae8",
   "metadata": {},
   "outputs": [],
   "source": [
    "with labs.ConnectLakehouse(lakehouse=lakehouse_name, workspace=lakehouse_workspace_name) as sql:\n",
    "    dfs = sql.query([\"SELECT * FROM Product\", \"SELECT DISTINCT [Category] FROM Product\"])\n",
    "\n",
    "for df in dfs:\n",
    "    display(df)"
   ]
  }
 ],
 "metadata": {
  "kernel_info": {
   "name": "synapse_pyspark"
  },
  "kernelspec": {
   "display_name": "Synapse PySpark",
   "language": "Python",
   "name": "synapse_pyspark"
  },
  "language_info": {
   "name": "python"
  },
  "microsoft": {
   "language": "python"
  },
  "nteract": {
   "version": "nteract-front-end@1.0.0"
  },
  "spark_compute": {
   "compute_id": "/trident/default"
  },
  "synapse_widget": {
   "state": {},
   "version": "0.1"
  },
  "widgets": {}
 },
 "nbformat": 4,
 "nbformat_minor": 5
}
